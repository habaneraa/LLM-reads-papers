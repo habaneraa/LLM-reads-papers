{
 "cells": [
  {
   "attachments": {},
   "cell_type": "markdown",
   "metadata": {},
   "source": [
    "Prerequisite: prepare your API key.\n",
    "\n",
    "Here we provide the key via environment variables because LangChain will try to use environment variables to initialize the key. Otherwise we have to pass the key to `ChatOpenAI` instance."
   ]
  },
  {
   "cell_type": "code",
   "execution_count": null,
   "metadata": {},
   "outputs": [],
   "source": [
    "import os\n",
    "os.environ['OPENAI_API_BASE'] = ''\n",
    "os.environ['OPENAI_API_KEY'] = ''"
   ]
  },
  {
   "attachments": {},
   "cell_type": "markdown",
   "metadata": {},
   "source": [
    "Step 1. Load the pdf file and check its section titles"
   ]
  },
  {
   "cell_type": "code",
   "execution_count": null,
   "metadata": {},
   "outputs": [],
   "source": [
    "from paper_reader.paper import Paper\n",
    "\n",
    "paper = Paper('./glib.pdf')"
   ]
  },
  {
   "attachments": {},
   "cell_type": "markdown",
   "metadata": {},
   "source": [
    "The program will guess what are the section titles in the pdf document. If the titles are not correct, you can manually assign correct section titles (a list of str) to `titles`"
   ]
  },
  {
   "cell_type": "code",
   "execution_count": null,
   "metadata": {},
   "outputs": [],
   "source": [
    "titles = paper.parse_pdf_title()\n",
    "paper.split_paper_by_titles(titles)\n",
    "for title, content in paper.paper_parts:\n",
    "    print(title)"
   ]
  },
  {
   "attachments": {},
   "cell_type": "markdown",
   "metadata": {},
   "source": [
    "Step 2. Declare some key points that you want GPT to focus on and see the estimated api cost"
   ]
  },
  {
   "cell_type": "code",
   "execution_count": null,
   "metadata": {},
   "outputs": [],
   "source": [
    "points = [\n",
    "    \"What is the scope of the problem that this paper addresses?\",\n",
    "    \"What are the key insights that this paper provides into the problem it addresses?\",\n",
    "    \"What are the limitations of this study?\"\n",
    "]\n",
    "paper.estimate_cost('')"
   ]
  },
  {
   "attachments": {},
   "cell_type": "markdown",
   "metadata": {},
   "source": [
    "Step 3. Let GPT generate summaries for you"
   ]
  },
  {
   "cell_type": "code",
   "execution_count": null,
   "metadata": {},
   "outputs": [],
   "source": [
    "from IPython.display import display, Markdown, clear_output\n",
    "text_to_be_rendered = ''\n",
    "# Here I define a callback function that displays rendered text to notebook.\n",
    "def show_response(resp, title, num, total):\n",
    "    global text_to_be_rendered\n",
    "    text_to_be_rendered += f'**Summary for the {title} (part {num+1} of {total})**\\n\\n'\n",
    "    text_to_be_rendered += resp\n",
    "    text_to_be_rendered += '\\n\\n'\n",
    "    clear_output(wait=False)\n",
    "    display(Markdown(text_to_be_rendered))\n",
    "paper.read_paper(points, callback=show_response)"
   ]
  },
  {
   "attachments": {},
   "cell_type": "markdown",
   "metadata": {},
   "source": [
    "Step 4. Save the results to local file"
   ]
  },
  {
   "cell_type": "code",
   "execution_count": null,
   "metadata": {},
   "outputs": [],
   "source": [
    "import pickle\n",
    "with open('paper-glib.pkl', 'wb') as f:\n",
    "    pickle.dump(paper, f)"
   ]
  },
  {
   "attachments": {},
   "cell_type": "markdown",
   "metadata": {},
   "source": [
    "Use these functionalities for non-interactive scripts."
   ]
  },
  {
   "cell_type": "code",
   "execution_count": null,
   "metadata": {},
   "outputs": [],
   "source": [
    "def read_and_summarize(pdf_path):\n",
    "    paper = Paper(pdf_path)\n",
    "    points = [\n",
    "        \"What is the scope of the problem that this paper addresses?\",\n",
    "        \"What are the key insights that this paper provides into the problem it addresses?\",\n",
    "        \"What are the limitations of this study?\"\n",
    "    ]\n",
    "    paper.read_paper(points)\n",
    "    with open(pdf_path+'.pkl', 'wb') as f:\n",
    "        pickle.dump(paper, f)\n",
    "    return paper.paper_summaries"
   ]
  }
 ],
 "metadata": {
  "kernelspec": {
   "display_name": "paper-reader",
   "language": "python",
   "name": "python3"
  },
  "language_info": {
   "codemirror_mode": {
    "name": "ipython",
    "version": 3
   },
   "file_extension": ".py",
   "mimetype": "text/x-python",
   "name": "python",
   "nbconvert_exporter": "python",
   "pygments_lexer": "ipython3",
   "version": "3.9.16"
  },
  "orig_nbformat": 4
 },
 "nbformat": 4,
 "nbformat_minor": 2
}
